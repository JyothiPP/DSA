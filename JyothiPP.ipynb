{
 "cells": [
  {
   "cell_type": "markdown",
   "id": "43cbc8dc",
   "metadata": {},
   "source": [
    "#                          CASE STUDY ON REGRESSION"
   ]
  },
  {
   "cell_type": "markdown",
   "id": "353f7850",
   "metadata": {},
   "source": [
    "# Importing necessary libraries"
   ]
  },
  {
   "cell_type": "code",
   "execution_count": 1,
   "id": "e1546e93",
   "metadata": {},
   "outputs": [],
   "source": [
    "import pandas as pd\n",
    "import numpy as np\n",
    "import matplotlib.pyplot as plt\n",
    "from sklearn.model_selection import train_test_split\n",
    "from sklearn import linear_model\n",
    "from sklearn.metrics import mean_squared_error,r2_score\n",
    "import warnings\n",
    "warnings.filterwarnings('ignore')"
   ]
  },
  {
   "cell_type": "markdown",
   "id": "d20bc8a1",
   "metadata": {},
   "source": [
    "# Loading the dataset"
   ]
  },
  {
   "cell_type": "code",
   "execution_count": 2,
   "id": "566da95d",
   "metadata": {},
   "outputs": [],
   "source": [
    "data=pd.read_csv(r\"C:\\Users\\jenan\\Downloads\\car_age_price.csv\")"
   ]
  },
  {
   "cell_type": "markdown",
   "id": "e6e0487d",
   "metadata": {},
   "source": [
    "# Checking the basic details of the dataset"
   ]
  },
  {
   "cell_type": "code",
   "execution_count": 3,
   "id": "b54306f2",
   "metadata": {},
   "outputs": [
    {
     "data": {
      "text/html": [
       "<div>\n",
       "<style scoped>\n",
       "    .dataframe tbody tr th:only-of-type {\n",
       "        vertical-align: middle;\n",
       "    }\n",
       "\n",
       "    .dataframe tbody tr th {\n",
       "        vertical-align: top;\n",
       "    }\n",
       "\n",
       "    .dataframe thead th {\n",
       "        text-align: right;\n",
       "    }\n",
       "</style>\n",
       "<table border=\"1\" class=\"dataframe\">\n",
       "  <thead>\n",
       "    <tr style=\"text-align: right;\">\n",
       "      <th></th>\n",
       "      <th>Year</th>\n",
       "      <th>Price</th>\n",
       "    </tr>\n",
       "  </thead>\n",
       "  <tbody>\n",
       "    <tr>\n",
       "      <th>0</th>\n",
       "      <td>2018</td>\n",
       "      <td>465000</td>\n",
       "    </tr>\n",
       "    <tr>\n",
       "      <th>1</th>\n",
       "      <td>2019</td>\n",
       "      <td>755000</td>\n",
       "    </tr>\n",
       "    <tr>\n",
       "      <th>2</th>\n",
       "      <td>2019</td>\n",
       "      <td>700000</td>\n",
       "    </tr>\n",
       "    <tr>\n",
       "      <th>3</th>\n",
       "      <td>2018</td>\n",
       "      <td>465000</td>\n",
       "    </tr>\n",
       "    <tr>\n",
       "      <th>4</th>\n",
       "      <td>2018</td>\n",
       "      <td>465000</td>\n",
       "    </tr>\n",
       "  </tbody>\n",
       "</table>\n",
       "</div>"
      ],
      "text/plain": [
       "   Year   Price\n",
       "0  2018  465000\n",
       "1  2019  755000\n",
       "2  2019  700000\n",
       "3  2018  465000\n",
       "4  2018  465000"
      ]
     },
     "execution_count": 3,
     "metadata": {},
     "output_type": "execute_result"
    }
   ],
   "source": [
    "#To display the first 5 rows of the dataset\n",
    "data.head()"
   ]
  },
  {
   "cell_type": "code",
   "execution_count": 4,
   "id": "7d0c2180",
   "metadata": {},
   "outputs": [
    {
     "data": {
      "text/plain": [
       "(112, 2)"
      ]
     },
     "execution_count": 4,
     "metadata": {},
     "output_type": "execute_result"
    }
   ],
   "source": [
    "#To get the number of rows and columns in the dataset\n",
    "data.shape"
   ]
  },
  {
   "cell_type": "code",
   "execution_count": 5,
   "id": "d37ce002",
   "metadata": {},
   "outputs": [
    {
     "name": "stdout",
     "output_type": "stream",
     "text": [
      "<class 'pandas.core.frame.DataFrame'>\n",
      "RangeIndex: 112 entries, 0 to 111\n",
      "Data columns (total 2 columns):\n",
      " #   Column  Non-Null Count  Dtype\n",
      "---  ------  --------------  -----\n",
      " 0   Year    112 non-null    int64\n",
      " 1   Price   112 non-null    int64\n",
      "dtypes: int64(2)\n",
      "memory usage: 1.9 KB\n"
     ]
    }
   ],
   "source": [
    "#To get informations such as number of columns,column names,number of non-null cells in each column,datatype of each column\n",
    "data.info()"
   ]
  },
  {
   "cell_type": "markdown",
   "id": "5ec523ab",
   "metadata": {},
   "source": [
    "From the Non-Null Count we can understand that there are no missing values."
   ]
  },
  {
   "cell_type": "code",
   "execution_count": 6,
   "id": "c2718161",
   "metadata": {},
   "outputs": [
    {
     "data": {
      "text/html": [
       "<div>\n",
       "<style scoped>\n",
       "    .dataframe tbody tr th:only-of-type {\n",
       "        vertical-align: middle;\n",
       "    }\n",
       "\n",
       "    .dataframe tbody tr th {\n",
       "        vertical-align: top;\n",
       "    }\n",
       "\n",
       "    .dataframe thead th {\n",
       "        text-align: right;\n",
       "    }\n",
       "</style>\n",
       "<table border=\"1\" class=\"dataframe\">\n",
       "  <thead>\n",
       "    <tr style=\"text-align: right;\">\n",
       "      <th></th>\n",
       "      <th>Year</th>\n",
       "      <th>Price</th>\n",
       "    </tr>\n",
       "  </thead>\n",
       "  <tbody>\n",
       "    <tr>\n",
       "      <th>count</th>\n",
       "      <td>112.000000</td>\n",
       "      <td>112.000000</td>\n",
       "    </tr>\n",
       "    <tr>\n",
       "      <th>mean</th>\n",
       "      <td>2016.669643</td>\n",
       "      <td>483866.044643</td>\n",
       "    </tr>\n",
       "    <tr>\n",
       "      <th>std</th>\n",
       "      <td>1.629616</td>\n",
       "      <td>91217.450533</td>\n",
       "    </tr>\n",
       "    <tr>\n",
       "      <th>min</th>\n",
       "      <td>2013.000000</td>\n",
       "      <td>300000.000000</td>\n",
       "    </tr>\n",
       "    <tr>\n",
       "      <th>25%</th>\n",
       "      <td>2015.000000</td>\n",
       "      <td>423750.000000</td>\n",
       "    </tr>\n",
       "    <tr>\n",
       "      <th>50%</th>\n",
       "      <td>2017.000000</td>\n",
       "      <td>500000.000000</td>\n",
       "    </tr>\n",
       "    <tr>\n",
       "      <th>75%</th>\n",
       "      <td>2017.000000</td>\n",
       "      <td>550000.000000</td>\n",
       "    </tr>\n",
       "    <tr>\n",
       "      <th>max</th>\n",
       "      <td>2020.000000</td>\n",
       "      <td>755000.000000</td>\n",
       "    </tr>\n",
       "  </tbody>\n",
       "</table>\n",
       "</div>"
      ],
      "text/plain": [
       "              Year          Price\n",
       "count   112.000000     112.000000\n",
       "mean   2016.669643  483866.044643\n",
       "std       1.629616   91217.450533\n",
       "min    2013.000000  300000.000000\n",
       "25%    2015.000000  423750.000000\n",
       "50%    2017.000000  500000.000000\n",
       "75%    2017.000000  550000.000000\n",
       "max    2020.000000  755000.000000"
      ]
     },
     "execution_count": 6,
     "metadata": {},
     "output_type": "execute_result"
    }
   ],
   "source": [
    "#To get statistical summary of the data\n",
    "data.describe()"
   ]
  },
  {
   "cell_type": "markdown",
   "id": "88f13eac",
   "metadata": {},
   "source": [
    "# Visualizing the dataset"
   ]
  },
  {
   "cell_type": "code",
   "execution_count": 7,
   "id": "06b62f5d",
   "metadata": {},
   "outputs": [
    {
     "data": {
      "image/png": "[encoded data removed]",
      "text/plain": [
       "<Figure size 640x480 with 1 Axes>"
      ]
     },
     "metadata": {},
     "output_type": "display_data"
    }
   ],
   "source": [
    "#Visualizing the data using bar plot\n",
    "plt.bar(data['Year'],data['Price'])\n",
    "plt.xlabel('Year of making')\n",
    "plt.ylabel('Price')\n",
    "plt.show()"
   ]
  },
  {
   "cell_type": "markdown",
   "id": "d2b67187",
   "metadata": {},
   "source": [
    "# Find the best linear relationship between year and price"
   ]
  },
  {
   "cell_type": "markdown",
   "id": "2ae589d8",
   "metadata": {},
   "source": [
    "# Defining the dependent and independent variables"
   ]
  },
  {
   "cell_type": "code",
   "execution_count": 8,
   "id": "4573258d",
   "metadata": {},
   "outputs": [],
   "source": [
    "Y=data['Price']\n",
    "X=data.drop('Price',axis=1)"
   ]
  },
  {
   "cell_type": "markdown",
   "id": "b413a084",
   "metadata": {},
   "source": [
    "# Splitting the data into train data and test data"
   ]
  },
  {
   "cell_type": "code",
   "execution_count": 9,
   "id": "6c4bfb64",
   "metadata": {},
   "outputs": [],
   "source": [
    "#Splitting the data in such a way that 65% data is for training and 35% is for testing\n",
    "x_train,x_test,y_train,y_test=train_test_split(X,Y,test_size=.35,random_state=42)"
   ]
  },
  {
   "cell_type": "markdown",
   "id": "53f4aa0c",
   "metadata": {},
   "source": [
    "# LINEAR REGRESSION"
   ]
  },
  {
   "cell_type": "markdown",
   "id": "23579fb4",
   "metadata": {},
   "source": [
    "# Model Training"
   ]
  },
  {
   "cell_type": "code",
   "execution_count": 10,
   "id": "7f85fa96",
   "metadata": {},
   "outputs": [],
   "source": [
    "#Defining and training(fitting) the linear regression model using train data\n",
    "lr=linear_model.LinearRegression()\n",
    "lr_model=lr.fit(x_train,y_train)"
   ]
  },
  {
   "cell_type": "code",
   "execution_count": 11,
   "id": "51f60d46",
   "metadata": {},
   "outputs": [
    {
     "name": "stdout",
     "output_type": "stream",
     "text": [
      "Predicted values: \n",
      " [596771.99344568 504622.16573033 550697.079588   550697.079588\n",
      " 550697.079588   412472.33801496 504622.16573033 550697.079588\n",
      " 596771.99344568 596771.99344568 320322.51029961 504622.16573033\n",
      " 412472.33801496 642846.90730336 550697.079588   596771.99344568\n",
      " 320322.51029961 412472.33801496 504622.16573033 504622.16573033\n",
      " 504622.16573033 504622.16573033 504622.16573033 504622.16573033\n",
      " 504622.16573033 504622.16573033 412472.33801496 412472.33801496\n",
      " 366397.42415729 412472.33801496 504622.16573033 596771.99344568\n",
      " 550697.079588   504622.16573033 504622.16573033 366397.42415729\n",
      " 412472.33801496 504622.16573033 412472.33801496 412472.33801496]\n"
     ]
    }
   ],
   "source": [
    "#Predicting the output for the test data using the fitted model\n",
    "lr_pred=lr_model.predict(x_test)\n",
    "print('Predicted values: \\n',lr_pred)"
   ]
  },
  {
   "cell_type": "code",
   "execution_count": 12,
   "id": "05eca249",
   "metadata": {},
   "outputs": [
    {
     "name": "stdout",
     "output_type": "stream",
     "text": [
      "Actual values:\n",
      " 40     525000\n",
      "65     495000\n",
      "4      465000\n",
      "47     450000\n",
      "42     550000\n",
      "69     300000\n",
      "26     550000\n",
      "11     500000\n",
      "10     500000\n",
      "44     550000\n",
      "73     320000\n",
      "55     550000\n",
      "68     465000\n",
      "97     640000\n",
      "0      465000\n",
      "18     500000\n",
      "53     345000\n",
      "80     390000\n",
      "103    375000\n",
      "91     520000\n",
      "36     550000\n",
      "12     500000\n",
      "31     550000\n",
      "66     525000\n",
      "90     520000\n",
      "62     540000\n",
      "22     434999\n",
      "85     320000\n",
      "81     390000\n",
      "77     325000\n",
      "15     500000\n",
      "30     650000\n",
      "45     450000\n",
      "9      575000\n",
      "33     550000\n",
      "56     341000\n",
      "64     490000\n",
      "28     550000\n",
      "79     400000\n",
      "5      350000\n",
      "Name: Price, dtype: int64\n"
     ]
    }
   ],
   "source": [
    "print(\"Actual values:\\n\",y_test)"
   ]
  },
  {
   "cell_type": "markdown",
   "id": "afd32bee",
   "metadata": {},
   "source": [
    "# Model Evaluation"
   ]
  },
  {
   "cell_type": "code",
   "execution_count": 13,
   "id": "c24c876e",
   "metadata": {},
   "outputs": [
    {
     "name": "stdout",
     "output_type": "stream",
     "text": [
      "Mean squared error : 3683436991.2840867\n",
      "Root mean squared error : 60691.325502777465\n",
      "R2 score : 0.5318565099882668\n"
     ]
    }
   ],
   "source": [
    "#Evaluating the model using the metrics mean squared error and r2 score\n",
    "lr_mse=mean_squared_error(y_test,lr_pred)\n",
    "lr_r2=r2_score(y_test,lr_pred)\n",
    "print(\"Mean squared error :\",lr_mse)\n",
    "print(\"Root mean squared error :\",np.sqrt(lr_mse))\n",
    "print(\"R2 score :\",lr_r2)"
   ]
  },
  {
   "cell_type": "markdown",
   "id": "901e6085",
   "metadata": {},
   "source": [
    "# Predicting the possible price of a 2022 model second-hand grand i10 using Linear Regression model\n"
   ]
  },
  {
   "cell_type": "code",
   "execution_count": 14,
   "id": "c2944839",
   "metadata": {},
   "outputs": [
    {
     "name": "stdout",
     "output_type": "stream",
     "text": [
      "The possible price of a 2022 model second-hand grand i10 is 734996.7350187153\n"
     ]
    }
   ],
   "source": [
    "year=2022\n",
    "pred=lr_model.predict([[year]])[0]\n",
    "print(\"The possible price of a 2022 model second-hand grand i10 is\",pred )"
   ]
  },
  {
   "cell_type": "markdown",
   "id": "043b3d8c",
   "metadata": {},
   "source": [
    "# LASSO REGRESSION"
   ]
  },
  {
   "cell_type": "markdown",
   "id": "8bc1e93a",
   "metadata": {},
   "source": [
    "# Model Training"
   ]
  },
  {
   "cell_type": "code",
   "execution_count": 15,
   "id": "4a72d229",
   "metadata": {},
   "outputs": [],
   "source": [
    "#Defining and training the lasso regression model using train data\n",
    "lasso_reg=linear_model.Lasso(alpha=0.1)\n",
    "lasso_model=lasso_reg.fit(x_train,y_train)"
   ]
  },
  {
   "cell_type": "code",
   "execution_count": 16,
   "id": "a1e1e181",
   "metadata": {},
   "outputs": [
    {
     "name": "stdout",
     "output_type": "stream",
     "text": [
      "Predicted values : \n",
      " [596771.89906366 504622.15224718 550697.02565542 550697.02565542\n",
      " 550697.02565542 412472.40543069 504622.15224718 550697.02565542\n",
      " 596771.89906366 596771.89906366 320322.65861422 504622.15224718\n",
      " 412472.40543069 642846.77247189 550697.02565542 596771.89906366\n",
      " 320322.65861422 412472.40543069 504622.15224718 504622.15224718\n",
      " 504622.15224718 504622.15224718 504622.15224718 504622.15224718\n",
      " 504622.15224718 504622.15224718 412472.40543069 412472.40543069\n",
      " 366397.53202246 412472.40543069 504622.15224718 596771.89906366\n",
      " 550697.02565542 504622.15224718 504622.15224718 366397.53202246\n",
      " 412472.40543069 504622.15224718 412472.40543069 412472.40543069]\n"
     ]
    }
   ],
   "source": [
    "#Predicting the output for the test data using the fitted model\n",
    "lasso_pred=lasso_model.predict(x_test)\n",
    "print('Predicted values : \\n',lasso_pred)"
   ]
  },
  {
   "cell_type": "markdown",
   "id": "03014f3c",
   "metadata": {},
   "source": [
    "# Model Evaluation"
   ]
  },
  {
   "cell_type": "code",
   "execution_count": 17,
   "id": "1fe8ed7b",
   "metadata": {},
   "outputs": [
    {
     "name": "stdout",
     "output_type": "stream",
     "text": [
      "Mean squared error : 3683435424.6574335\n",
      "Root mean squared error : 60691.312596264004\n",
      "R2 score : 0.5318567090974332\n"
     ]
    }
   ],
   "source": [
    "#Evaluating the model using the metrics mean squared error and r2 score\n",
    "lasso_mse=mean_squared_error(y_test,lasso_pred)\n",
    "lasso_r2=r2_score(y_test,lasso_pred)\n",
    "print(\"Mean squared error :\",lasso_mse)\n",
    "print(\"Root mean squared error :\",np.sqrt(lasso_mse))\n",
    "print(\"R2 score :\",lasso_r2)"
   ]
  },
  {
   "cell_type": "markdown",
   "id": "bb4cf9dc",
   "metadata": {},
   "source": [
    "# Predicting the possible price of a 2022 model second-hand grand i10 using Lasso Regression model"
   ]
  },
  {
   "cell_type": "code",
   "execution_count": 18,
   "id": "c49c0a15",
   "metadata": {},
   "outputs": [
    {
     "name": "stdout",
     "output_type": "stream",
     "text": [
      "The possible price of a 2022 model second-hand grand i10 is 734996.519288376\n"
     ]
    }
   ],
   "source": [
    "lasso_pred=lasso_model.predict([[year]])[0]\n",
    "print(\"The possible price of a 2022 model second-hand grand i10 is\",lasso_pred )"
   ]
  },
  {
   "cell_type": "markdown",
   "id": "686f0e41",
   "metadata": {},
   "source": [
    "From the evaluation metrics, mean squared error and r2 score of Linear regression model and Lasso regression model we can understand that both the models have similar performance."
   ]
  },
  {
   "cell_type": "code",
   "execution_count": null,
   "id": "01d36c3a",
   "metadata": {},
   "outputs": [],
   "source": []
  }
 ],
 "metadata": {
  "kernelspec": {
   "display_name": "Python 3 (ipykernel)",
   "language": "python",
   "name": "python3"
  },
  "language_info": {
   "codemirror_mode": {
    "name": "ipython",
    "version": 3
   },
   "file_extension": ".py",
   "mimetype": "text/x-python",
   "name": "python",
   "nbconvert_exporter": "python",
   "pygments_lexer": "ipython3",
   "version": "3.11.3"
  }
 },
 "nbformat": 4,
 "nbformat_minor": 5
}
