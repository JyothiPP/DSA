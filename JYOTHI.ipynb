{
 "cells": [
  {
   "cell_type": "markdown",
   "id": "f248c9b5",
   "metadata": {},
   "source": [
    "# ASSIGNMENT ON CLASSIFICATION"
   ]
  },
  {
   "cell_type": "markdown",
   "id": "258b6c18",
   "metadata": {},
   "source": [
    "# Importing necessary libraries"
   ]
  },
  {
   "cell_type": "code",
   "execution_count": 1,
   "id": "5f3c820c",
   "metadata": {},
   "outputs": [],
   "source": [
    "import pandas as pd\n",
    "import numpy as np\n",
    "import matplotlib.pyplot as plt\n",
    "import seaborn as sns\n",
    "from sklearn.model_selection import train_test_split\n",
    "from sklearn.metrics import confusion_matrix,accuracy_score\n",
    "import warnings\n",
    "warnings.filterwarnings('ignore')"
   ]
  },
  {
   "cell_type": "markdown",
   "id": "906640e7",
   "metadata": {},
   "source": [
    "# Loading the dataset"
   ]
  },
  {
   "cell_type": "code",
   "execution_count": 2,
   "id": "4b4add9e",
   "metadata": {},
   "outputs": [],
   "source": [
    "data=pd.read_excel(r\"C:\\Users\\jenan\\Downloads\\iris (1).xls\")"
   ]
  },
  {
   "cell_type": "markdown",
   "id": "caa51fe3",
   "metadata": {},
   "source": [
    "# Checking the basic details of the dataset"
   ]
  },
  {
   "cell_type": "code",
   "execution_count": 3,
   "id": "5099f43e",
   "metadata": {},
   "outputs": [
    {
     "data": {
      "text/html": [
       "<div>\n",
       "<style scoped>\n",
       "    .dataframe tbody tr th:only-of-type {\n",
       "        vertical-align: middle;\n",
       "    }\n",
       "\n",
       "    .dataframe tbody tr th {\n",
       "        vertical-align: top;\n",
       "    }\n",
       "\n",
       "    .dataframe thead th {\n",
       "        text-align: right;\n",
       "    }\n",
       "</style>\n",
       "<table border=\"1\" class=\"dataframe\">\n",
       "  <thead>\n",
       "    <tr style=\"text-align: right;\">\n",
       "      <th></th>\n",
       "      <th>SL</th>\n",
       "      <th>SW</th>\n",
       "      <th>PL</th>\n",
       "      <th>PW</th>\n",
       "      <th>Classification</th>\n",
       "    </tr>\n",
       "  </thead>\n",
       "  <tbody>\n",
       "    <tr>\n",
       "      <th>0</th>\n",
       "      <td>5.1</td>\n",
       "      <td>3.5</td>\n",
       "      <td>1.4</td>\n",
       "      <td>0.2</td>\n",
       "      <td>Iris-setosa</td>\n",
       "    </tr>\n",
       "    <tr>\n",
       "      <th>1</th>\n",
       "      <td>4.9</td>\n",
       "      <td>3.0</td>\n",
       "      <td>1.4</td>\n",
       "      <td>0.2</td>\n",
       "      <td>Iris-setosa</td>\n",
       "    </tr>\n",
       "    <tr>\n",
       "      <th>2</th>\n",
       "      <td>NaN</td>\n",
       "      <td>3.2</td>\n",
       "      <td>1.3</td>\n",
       "      <td>0.2</td>\n",
       "      <td>Iris-setosa</td>\n",
       "    </tr>\n",
       "    <tr>\n",
       "      <th>3</th>\n",
       "      <td>4.6</td>\n",
       "      <td>3.1</td>\n",
       "      <td>1.5</td>\n",
       "      <td>0.2</td>\n",
       "      <td>Iris-setosa</td>\n",
       "    </tr>\n",
       "    <tr>\n",
       "      <th>4</th>\n",
       "      <td>5.0</td>\n",
       "      <td>3.6</td>\n",
       "      <td>1.4</td>\n",
       "      <td>0.2</td>\n",
       "      <td>Iris-setosa</td>\n",
       "    </tr>\n",
       "  </tbody>\n",
       "</table>\n",
       "</div>"
      ],
      "text/plain": [
       "    SL   SW   PL   PW Classification\n",
       "0  5.1  3.5  1.4  0.2    Iris-setosa\n",
       "1  4.9  3.0  1.4  0.2    Iris-setosa\n",
       "2  NaN  3.2  1.3  0.2    Iris-setosa\n",
       "3  4.6  3.1  1.5  0.2    Iris-setosa\n",
       "4  5.0  3.6  1.4  0.2    Iris-setosa"
      ]
     },
     "execution_count": 3,
     "metadata": {},
     "output_type": "execute_result"
    }
   ],
   "source": [
    "#To display the first 5 rows of the dataset\n",
    "data.head()"
   ]
  },
  {
   "cell_type": "code",
   "execution_count": 4,
   "id": "65906bef",
   "metadata": {},
   "outputs": [
    {
     "data": {
      "text/plain": [
       "(150, 5)"
      ]
     },
     "execution_count": 4,
     "metadata": {},
     "output_type": "execute_result"
    }
   ],
   "source": [
    "#To find the number of rows and columns in the dataset\n",
    "data.shape"
   ]
  },
  {
   "cell_type": "code",
   "execution_count": 5,
   "id": "7fc8a0f1",
   "metadata": {},
   "outputs": [
    {
     "data": {
      "text/plain": [
       "Index(['SL', 'SW', 'PL', 'PW', 'Classification'], dtype='object')"
      ]
     },
     "execution_count": 5,
     "metadata": {},
     "output_type": "execute_result"
    }
   ],
   "source": [
    "#To find the column names\n",
    "data.columns"
   ]
  },
  {
   "cell_type": "code",
   "execution_count": 6,
   "id": "e95f9929",
   "metadata": {},
   "outputs": [
    {
     "name": "stdout",
     "output_type": "stream",
     "text": [
      "<class 'pandas.core.frame.DataFrame'>\n",
      "RangeIndex: 150 entries, 0 to 149\n",
      "Data columns (total 5 columns):\n",
      " #   Column          Non-Null Count  Dtype  \n",
      "---  ------          --------------  -----  \n",
      " 0   SL              143 non-null    float64\n",
      " 1   SW              144 non-null    float64\n",
      " 2   PL              144 non-null    float64\n",
      " 3   PW              150 non-null    float64\n",
      " 4   Classification  150 non-null    object \n",
      "dtypes: float64(4), object(1)\n",
      "memory usage: 6.0+ KB\n"
     ]
    }
   ],
   "source": [
    "#To get informations such as number of columns,column names,number of non-null cells in each column,datatype of each column\n",
    "data.info()"
   ]
  },
  {
   "cell_type": "code",
   "execution_count": 7,
   "id": "8cb7cb8d",
   "metadata": {},
   "outputs": [
    {
     "data": {
      "text/html": [
       "<div>\n",
       "<style scoped>\n",
       "    .dataframe tbody tr th:only-of-type {\n",
       "        vertical-align: middle;\n",
       "    }\n",
       "\n",
       "    .dataframe tbody tr th {\n",
       "        vertical-align: top;\n",
       "    }\n",
       "\n",
       "    .dataframe thead th {\n",
       "        text-align: right;\n",
       "    }\n",
       "</style>\n",
       "<table border=\"1\" class=\"dataframe\">\n",
       "  <thead>\n",
       "    <tr style=\"text-align: right;\">\n",
       "      <th></th>\n",
       "      <th>SL</th>\n",
       "      <th>SW</th>\n",
       "      <th>PL</th>\n",
       "      <th>PW</th>\n",
       "    </tr>\n",
       "  </thead>\n",
       "  <tbody>\n",
       "    <tr>\n",
       "      <th>count</th>\n",
       "      <td>143.000000</td>\n",
       "      <td>144.000000</td>\n",
       "      <td>144.000000</td>\n",
       "      <td>150.000000</td>\n",
       "    </tr>\n",
       "    <tr>\n",
       "      <th>mean</th>\n",
       "      <td>5.855944</td>\n",
       "      <td>3.049306</td>\n",
       "      <td>3.756250</td>\n",
       "      <td>1.198667</td>\n",
       "    </tr>\n",
       "    <tr>\n",
       "      <th>std</th>\n",
       "      <td>0.828168</td>\n",
       "      <td>0.430644</td>\n",
       "      <td>1.761306</td>\n",
       "      <td>0.763161</td>\n",
       "    </tr>\n",
       "    <tr>\n",
       "      <th>min</th>\n",
       "      <td>4.300000</td>\n",
       "      <td>2.000000</td>\n",
       "      <td>1.000000</td>\n",
       "      <td>0.100000</td>\n",
       "    </tr>\n",
       "    <tr>\n",
       "      <th>25%</th>\n",
       "      <td>5.100000</td>\n",
       "      <td>2.800000</td>\n",
       "      <td>1.600000</td>\n",
       "      <td>0.300000</td>\n",
       "    </tr>\n",
       "    <tr>\n",
       "      <th>50%</th>\n",
       "      <td>5.800000</td>\n",
       "      <td>3.000000</td>\n",
       "      <td>4.350000</td>\n",
       "      <td>1.300000</td>\n",
       "    </tr>\n",
       "    <tr>\n",
       "      <th>75%</th>\n",
       "      <td>6.400000</td>\n",
       "      <td>3.300000</td>\n",
       "      <td>5.100000</td>\n",
       "      <td>1.800000</td>\n",
       "    </tr>\n",
       "    <tr>\n",
       "      <th>max</th>\n",
       "      <td>7.900000</td>\n",
       "      <td>4.400000</td>\n",
       "      <td>6.900000</td>\n",
       "      <td>2.500000</td>\n",
       "    </tr>\n",
       "  </tbody>\n",
       "</table>\n",
       "</div>"
      ],
      "text/plain": [
       "               SL          SW          PL          PW\n",
       "count  143.000000  144.000000  144.000000  150.000000\n",
       "mean     5.855944    3.049306    3.756250    1.198667\n",
       "std      0.828168    0.430644    1.761306    0.763161\n",
       "min      4.300000    2.000000    1.000000    0.100000\n",
       "25%      5.100000    2.800000    1.600000    0.300000\n",
       "50%      5.800000    3.000000    4.350000    1.300000\n",
       "75%      6.400000    3.300000    5.100000    1.800000\n",
       "max      7.900000    4.400000    6.900000    2.500000"
      ]
     },
     "execution_count": 7,
     "metadata": {},
     "output_type": "execute_result"
    }
   ],
   "source": [
    "#To get statistical summary of numerical columns\n",
    "data.describe()"
   ]
  },
  {
   "cell_type": "markdown",
   "id": "85d034a1",
   "metadata": {},
   "source": [
    "# Visualization of the dataset"
   ]
  },
  {
   "cell_type": "code",
   "execution_count": 8,
   "id": "a0147809",
   "metadata": {},
   "outputs": [
    {
     "data": {
      "image/png": "[encoded data removed]",
      "text/plain": [
       "<Figure size 1500x1000 with 4 Axes>"
      ]
     },
     "metadata": {},
     "output_type": "display_data"
    }
   ],
   "source": [
    "#To plot histogram to analyse the distribution of SL,SW,PL and PW.\n",
    "data.hist(figsize = (15,10))\n",
    "plt.show()"
   ]
  },
  {
   "cell_type": "code",
   "execution_count": 9,
   "id": "6558e0b9",
   "metadata": {},
   "outputs": [
    {
     "data": {
      "image/png": "[encoded data removed]",
      "text/plain": [
       "<Figure size 1000x1000 with 4 Axes>"
      ]
     },
     "metadata": {},
     "output_type": "display_data"
    }
   ],
   "source": [
    "#To plot bar charts for analysing the 'SL','SW','PL' and 'PW' of the three species of Iris.\n",
    "plt.figure(figsize=(10,10))\n",
    "plt.subplot(2,2,1)\n",
    "plt.bar(data['Classification'],data['SL'])\n",
    "plt.xlabel('Classification')\n",
    "plt.ylabel('Sepal Length')\n",
    "plt.subplot(2,2,2)\n",
    "plt.bar(data['Classification'],data['SW'])\n",
    "plt.xlabel('Classification')\n",
    "plt.ylabel('Sepal Width')\n",
    "plt.subplot(2,2,3)\n",
    "plt.bar(data['Classification'],data['PL'])\n",
    "plt.xlabel('Classification')\n",
    "plt.ylabel('Petal Length')\n",
    "plt.subplot(2,2,4)\n",
    "plt.bar(data['Classification'],data['PW'])\n",
    "plt.xlabel('Classification')\n",
    "plt.ylabel('Petal Width')\n",
    "plt.show()"
   ]
  },
  {
   "cell_type": "markdown",
   "id": "008f868b",
   "metadata": {},
   "source": [
    "# Data Preprocessing"
   ]
  },
  {
   "cell_type": "markdown",
   "id": "84b45af8",
   "metadata": {},
   "source": [
    "# Data imputation"
   ]
  },
  {
   "cell_type": "code",
   "execution_count": 10,
   "id": "b317a998",
   "metadata": {},
   "outputs": [
    {
     "data": {
      "text/plain": [
       "SL                7\n",
       "SW                6\n",
       "PL                6\n",
       "PW                0\n",
       "Classification    0\n",
       "dtype: int64"
      ]
     },
     "execution_count": 10,
     "metadata": {},
     "output_type": "execute_result"
    }
   ],
   "source": [
    "#Finding the number of null values in each column\n",
    "data.isna().sum()"
   ]
  },
  {
   "cell_type": "code",
   "execution_count": 11,
   "id": "fcfdbc62",
   "metadata": {},
   "outputs": [],
   "source": [
    "#Filling the missing values using backward fill method\n",
    "data['SL']=data['SL'].fillna(method='bfill')\n",
    "data['SW']=data['SW'].fillna(method='bfill')\n",
    "data['PL']=data['PL'].fillna(method='bfill')"
   ]
  },
  {
   "cell_type": "code",
   "execution_count": 12,
   "id": "c57c9f58",
   "metadata": {},
   "outputs": [
    {
     "data": {
      "text/plain": [
       "SL                0\n",
       "SW                0\n",
       "PL                0\n",
       "PW                0\n",
       "Classification    0\n",
       "dtype: int64"
      ]
     },
     "execution_count": 12,
     "metadata": {},
     "output_type": "execute_result"
    }
   ],
   "source": [
    "#Checking for null values after filling\n",
    "data.isna().sum()"
   ]
  },
  {
   "cell_type": "markdown",
   "id": "c809d00e",
   "metadata": {},
   "source": [
    "Now, there are no missing values."
   ]
  },
  {
   "cell_type": "markdown",
   "id": "84d73909",
   "metadata": {},
   "source": [
    "# Outlier detection and handling"
   ]
  },
  {
   "cell_type": "code",
   "execution_count": 13,
   "id": "481002df",
   "metadata": {},
   "outputs": [
    {
     "data": {
      "text/plain": [
       "<Axes: >"
      ]
     },
     "execution_count": 13,
     "metadata": {},
     "output_type": "execute_result"
    },
    {
     "data": {
      "image/png": "[encoded data removed]",
      "text/plain": [
       "<Figure size 640x480 with 1 Axes>"
      ]
     },
     "metadata": {},
     "output_type": "display_data"
    }
   ],
   "source": [
    "#Plotting the data to find outliers\n",
    "df=data.drop('Classification',axis=1)\n",
    "sns.boxplot(data=df)"
   ]
  },
  {
   "cell_type": "markdown",
   "id": "ce40af8c",
   "metadata": {},
   "source": [
    "There are outliers in 'SW'."
   ]
  },
  {
   "cell_type": "code",
   "execution_count": 14,
   "id": "a450819a",
   "metadata": {},
   "outputs": [
    {
     "name": "stdout",
     "output_type": "stream",
     "text": [
      "First quartile,Q1 = 2.8\n",
      "Second quartile,Q2 = 3.0\n",
      "Third quartile,Q3 = 3.3\n",
      "Inter quartile range = 0.5\n",
      "Lower limit = 2.05\n",
      "Upper limit = 4.05\n",
      "Outliers are  [4.4, 4.1, 4.2, 2.0]\n"
     ]
    }
   ],
   "source": [
    "#Finding the outliers in 'SW'\n",
    "Q1=np.percentile(data['SW'],25,method='midpoint')\n",
    "Q2=np.percentile(data['SW'],50,method='midpoint')\n",
    "Q3=np.percentile(data['SW'],75,method='midpoint')\n",
    "IQR=Q3-Q1\n",
    "low_lim=Q1-1.5*IQR\n",
    "up_lim=Q3+1.5*IQR\n",
    "print(\"First quartile,Q1 =\",Q1)\n",
    "print(\"Second quartile,Q2 =\",Q2)\n",
    "print(\"Third quartile,Q3 =\",Q3)\n",
    "print(\"Inter quartile range =\",IQR)\n",
    "print(\"Lower limit =\",low_lim)\n",
    "print(\"Upper limit =\",up_lim)\n",
    "\n",
    "outlier=[]\n",
    "for i in data['SW']:\n",
    "    if (i>up_lim)or(i<low_lim):\n",
    "        outlier.append(i)\n",
    "print(\"Outliers are \",outlier)\n"
   ]
  },
  {
   "cell_type": "code",
   "execution_count": 15,
   "id": "5d04ff08",
   "metadata": {},
   "outputs": [
    {
     "data": {
      "text/plain": [
       "Int64Index([60], dtype='int64')"
      ]
     },
     "execution_count": 15,
     "metadata": {},
     "output_type": "execute_result"
    }
   ],
   "source": [
    "#Finding the index of the outliers below the lower limit\n",
    "ind_1=data['SW']<low_lim\n",
    "data.loc[ind_1].index"
   ]
  },
  {
   "cell_type": "code",
   "execution_count": 16,
   "id": "f4ee4774",
   "metadata": {},
   "outputs": [
    {
     "data": {
      "text/plain": [
       "Int64Index([15, 32, 33], dtype='int64')"
      ]
     },
     "execution_count": 16,
     "metadata": {},
     "output_type": "execute_result"
    }
   ],
   "source": [
    "#Finding the index of the outliers above the upper limit\n",
    "ind_2=data['SW']>up_lim\n",
    "data.loc[ind_2].index"
   ]
  },
  {
   "cell_type": "code",
   "execution_count": 17,
   "id": "67aef220",
   "metadata": {},
   "outputs": [],
   "source": [
    "#Removing the outliers\n",
    "data.drop([60,15,32,33],inplace=True)"
   ]
  },
  {
   "cell_type": "code",
   "execution_count": 18,
   "id": "01a093d8",
   "metadata": {},
   "outputs": [
    {
     "data": {
      "image/png": "[encoded data removed]",
      "text/plain": [
       "<Figure size 640x480 with 1 Axes>"
      ]
     },
     "metadata": {},
     "output_type": "display_data"
    }
   ],
   "source": [
    "#Checking whether the outliers are removed\n",
    "df=data.drop('Classification',axis=1)\n",
    "sns.boxplot(data=df)\n",
    "plt.show()"
   ]
  },
  {
   "cell_type": "markdown",
   "id": "c0043971",
   "metadata": {},
   "source": [
    "Now,there are no outliers."
   ]
  },
  {
   "cell_type": "markdown",
   "id": "80a8e227",
   "metadata": {},
   "source": [
    "# Encoding"
   ]
  },
  {
   "cell_type": "code",
   "execution_count": 19,
   "id": "5132b257",
   "metadata": {},
   "outputs": [
    {
     "data": {
      "text/html": [
       "<div>\n",
       "<style scoped>\n",
       "    .dataframe tbody tr th:only-of-type {\n",
       "        vertical-align: middle;\n",
       "    }\n",
       "\n",
       "    .dataframe tbody tr th {\n",
       "        vertical-align: top;\n",
       "    }\n",
       "\n",
       "    .dataframe thead th {\n",
       "        text-align: right;\n",
       "    }\n",
       "</style>\n",
       "<table border=\"1\" class=\"dataframe\">\n",
       "  <thead>\n",
       "    <tr style=\"text-align: right;\">\n",
       "      <th></th>\n",
       "      <th>SL</th>\n",
       "      <th>SW</th>\n",
       "      <th>PL</th>\n",
       "      <th>PW</th>\n",
       "      <th>Classification</th>\n",
       "    </tr>\n",
       "  </thead>\n",
       "  <tbody>\n",
       "    <tr>\n",
       "      <th>0</th>\n",
       "      <td>5.1</td>\n",
       "      <td>3.5</td>\n",
       "      <td>1.4</td>\n",
       "      <td>0.2</td>\n",
       "      <td>0</td>\n",
       "    </tr>\n",
       "    <tr>\n",
       "      <th>1</th>\n",
       "      <td>4.9</td>\n",
       "      <td>3.0</td>\n",
       "      <td>1.4</td>\n",
       "      <td>0.2</td>\n",
       "      <td>0</td>\n",
       "    </tr>\n",
       "    <tr>\n",
       "      <th>2</th>\n",
       "      <td>4.6</td>\n",
       "      <td>3.2</td>\n",
       "      <td>1.3</td>\n",
       "      <td>0.2</td>\n",
       "      <td>0</td>\n",
       "    </tr>\n",
       "    <tr>\n",
       "      <th>3</th>\n",
       "      <td>4.6</td>\n",
       "      <td>3.1</td>\n",
       "      <td>1.5</td>\n",
       "      <td>0.2</td>\n",
       "      <td>0</td>\n",
       "    </tr>\n",
       "    <tr>\n",
       "      <th>4</th>\n",
       "      <td>5.0</td>\n",
       "      <td>3.6</td>\n",
       "      <td>1.4</td>\n",
       "      <td>0.2</td>\n",
       "      <td>0</td>\n",
       "    </tr>\n",
       "    <tr>\n",
       "      <th>...</th>\n",
       "      <td>...</td>\n",
       "      <td>...</td>\n",
       "      <td>...</td>\n",
       "      <td>...</td>\n",
       "      <td>...</td>\n",
       "    </tr>\n",
       "    <tr>\n",
       "      <th>145</th>\n",
       "      <td>6.7</td>\n",
       "      <td>3.0</td>\n",
       "      <td>5.2</td>\n",
       "      <td>2.3</td>\n",
       "      <td>2</td>\n",
       "    </tr>\n",
       "    <tr>\n",
       "      <th>146</th>\n",
       "      <td>6.3</td>\n",
       "      <td>2.5</td>\n",
       "      <td>5.0</td>\n",
       "      <td>1.9</td>\n",
       "      <td>2</td>\n",
       "    </tr>\n",
       "    <tr>\n",
       "      <th>147</th>\n",
       "      <td>6.5</td>\n",
       "      <td>3.0</td>\n",
       "      <td>5.4</td>\n",
       "      <td>2.0</td>\n",
       "      <td>2</td>\n",
       "    </tr>\n",
       "    <tr>\n",
       "      <th>148</th>\n",
       "      <td>6.2</td>\n",
       "      <td>3.4</td>\n",
       "      <td>5.4</td>\n",
       "      <td>2.3</td>\n",
       "      <td>2</td>\n",
       "    </tr>\n",
       "    <tr>\n",
       "      <th>149</th>\n",
       "      <td>5.9</td>\n",
       "      <td>3.0</td>\n",
       "      <td>5.1</td>\n",
       "      <td>1.8</td>\n",
       "      <td>2</td>\n",
       "    </tr>\n",
       "  </tbody>\n",
       "</table>\n",
       "<p>146 rows × 5 columns</p>\n",
       "</div>"
      ],
      "text/plain": [
       "      SL   SW   PL   PW  Classification\n",
       "0    5.1  3.5  1.4  0.2               0\n",
       "1    4.9  3.0  1.4  0.2               0\n",
       "2    4.6  3.2  1.3  0.2               0\n",
       "3    4.6  3.1  1.5  0.2               0\n",
       "4    5.0  3.6  1.4  0.2               0\n",
       "..   ...  ...  ...  ...             ...\n",
       "145  6.7  3.0  5.2  2.3               2\n",
       "146  6.3  2.5  5.0  1.9               2\n",
       "147  6.5  3.0  5.4  2.0               2\n",
       "148  6.2  3.4  5.4  2.3               2\n",
       "149  5.9  3.0  5.1  1.8               2\n",
       "\n",
       "[146 rows x 5 columns]"
      ]
     },
     "execution_count": 19,
     "metadata": {},
     "output_type": "execute_result"
    }
   ],
   "source": [
    "#Label encoding the categorical column 'Classification'\n",
    "from sklearn.preprocessing import LabelEncoder\n",
    "le=LabelEncoder()\n",
    "data['Classification']=le.fit_transform(data['Classification'])\n",
    "data"
   ]
  },
  {
   "cell_type": "markdown",
   "id": "c5d09728",
   "metadata": {},
   "source": [
    "# Checking Correlation"
   ]
  },
  {
   "cell_type": "code",
   "execution_count": 20,
   "id": "03186150",
   "metadata": {},
   "outputs": [
    {
     "data": {
      "text/html": [
       "<div>\n",
       "<style scoped>\n",
       "    .dataframe tbody tr th:only-of-type {\n",
       "        vertical-align: middle;\n",
       "    }\n",
       "\n",
       "    .dataframe tbody tr th {\n",
       "        vertical-align: top;\n",
       "    }\n",
       "\n",
       "    .dataframe thead th {\n",
       "        text-align: right;\n",
       "    }\n",
       "</style>\n",
       "<table border=\"1\" class=\"dataframe\">\n",
       "  <thead>\n",
       "    <tr style=\"text-align: right;\">\n",
       "      <th></th>\n",
       "      <th>SL</th>\n",
       "      <th>SW</th>\n",
       "      <th>PL</th>\n",
       "      <th>PW</th>\n",
       "      <th>Classification</th>\n",
       "    </tr>\n",
       "  </thead>\n",
       "  <tbody>\n",
       "    <tr>\n",
       "      <th>SL</th>\n",
       "      <td>1.000000</td>\n",
       "      <td>-0.148002</td>\n",
       "      <td>0.874045</td>\n",
       "      <td>0.821344</td>\n",
       "      <td>0.796331</td>\n",
       "    </tr>\n",
       "    <tr>\n",
       "      <th>SW</th>\n",
       "      <td>-0.148002</td>\n",
       "      <td>1.000000</td>\n",
       "      <td>-0.411160</td>\n",
       "      <td>-0.329488</td>\n",
       "      <td>-0.402182</td>\n",
       "    </tr>\n",
       "    <tr>\n",
       "      <th>PL</th>\n",
       "      <td>0.874045</td>\n",
       "      <td>-0.411160</td>\n",
       "      <td>1.000000</td>\n",
       "      <td>0.956883</td>\n",
       "      <td>0.947644</td>\n",
       "    </tr>\n",
       "    <tr>\n",
       "      <th>PW</th>\n",
       "      <td>0.821344</td>\n",
       "      <td>-0.329488</td>\n",
       "      <td>0.956883</td>\n",
       "      <td>1.000000</td>\n",
       "      <td>0.955549</td>\n",
       "    </tr>\n",
       "    <tr>\n",
       "      <th>Classification</th>\n",
       "      <td>0.796331</td>\n",
       "      <td>-0.402182</td>\n",
       "      <td>0.947644</td>\n",
       "      <td>0.955549</td>\n",
       "      <td>1.000000</td>\n",
       "    </tr>\n",
       "  </tbody>\n",
       "</table>\n",
       "</div>"
      ],
      "text/plain": [
       "                      SL        SW        PL        PW  Classification\n",
       "SL              1.000000 -0.148002  0.874045  0.821344        0.796331\n",
       "SW             -0.148002  1.000000 -0.411160 -0.329488       -0.402182\n",
       "PL              0.874045 -0.411160  1.000000  0.956883        0.947644\n",
       "PW              0.821344 -0.329488  0.956883  1.000000        0.955549\n",
       "Classification  0.796331 -0.402182  0.947644  0.955549        1.000000"
      ]
     },
     "execution_count": 20,
     "metadata": {},
     "output_type": "execute_result"
    }
   ],
   "source": [
    "#Correlation matrix\n",
    "data.corr()"
   ]
  },
  {
   "cell_type": "code",
   "execution_count": 21,
   "id": "65cc5c56",
   "metadata": {},
   "outputs": [
    {
     "data": {
      "text/plain": [
       "<Axes: >"
      ]
     },
     "execution_count": 21,
     "metadata": {},
     "output_type": "execute_result"
    },
    {
     "data": {
      "image/png": "[encoded data removed]",
      "text/plain": [
       "<Figure size 640x480 with 2 Axes>"
      ]
     },
     "metadata": {},
     "output_type": "display_data"
    }
   ],
   "source": [
    "#Correlation heatmap\n",
    "sns.heatmap(data.corr(),annot=True)"
   ]
  },
  {
   "cell_type": "markdown",
   "id": "d888435c",
   "metadata": {},
   "source": [
    "# BUILDING CLASSIFICATION MODELS"
   ]
  },
  {
   "cell_type": "markdown",
   "id": "fbba3679",
   "metadata": {},
   "source": [
    "# Defining the dependent and independent variables"
   ]
  },
  {
   "cell_type": "code",
   "execution_count": 22,
   "id": "8cd7066e",
   "metadata": {},
   "outputs": [],
   "source": [
    "x=data.drop(['Classification'],axis=1)\n",
    "y=data['Classification']"
   ]
  },
  {
   "cell_type": "markdown",
   "id": "b26c46b9",
   "metadata": {},
   "source": [
    "# Splitting the data into train data and test data"
   ]
  },
  {
   "cell_type": "code",
   "execution_count": 23,
   "id": "4870a0bc",
   "metadata": {},
   "outputs": [],
   "source": [
    "#Splitting the data in such a way that 75% data is for training and 25% is for testing\n",
    "x_train,x_test,y_train,y_test=train_test_split(x,y,test_size=.25,random_state=42)"
   ]
  },
  {
   "cell_type": "markdown",
   "id": "e869ee30",
   "metadata": {},
   "source": [
    "# LOGISTIC REGRESSION"
   ]
  },
  {
   "cell_type": "markdown",
   "id": "e3946ef7",
   "metadata": {},
   "source": [
    "# Model Training"
   ]
  },
  {
   "cell_type": "code",
   "execution_count": 24,
   "id": "ad6c1166",
   "metadata": {},
   "outputs": [],
   "source": [
    "#Defining and training(fitting) the logistic regression model using train data\n",
    "from sklearn import linear_model\n",
    "lr=linear_model.LogisticRegression()\n",
    "lr_model=lr.fit(x_train,y_train)"
   ]
  },
  {
   "cell_type": "code",
   "execution_count": 25,
   "id": "22f1ee67",
   "metadata": {},
   "outputs": [],
   "source": [
    "#Predicting the output for the test data using the fitted model\n",
    "lr_pred=lr_model.predict(x_test)"
   ]
  },
  {
   "cell_type": "markdown",
   "id": "8406e34c",
   "metadata": {},
   "source": [
    "# Model Evaluation"
   ]
  },
  {
   "cell_type": "code",
   "execution_count": 26,
   "id": "10ef5b99",
   "metadata": {},
   "outputs": [
    {
     "name": "stdout",
     "output_type": "stream",
     "text": [
      "Confusion matrix : \n",
      " [[16  0  0]\n",
      " [ 0  8  0]\n",
      " [ 0  1 12]]\n"
     ]
    }
   ],
   "source": [
    "#Evaluating the model using confusion matrix\n",
    "print(\"Confusion matrix : \\n\",confusion_matrix(y_test,lr_pred))"
   ]
  },
  {
   "cell_type": "code",
   "execution_count": 27,
   "id": "e117a1fd",
   "metadata": {},
   "outputs": [
    {
     "name": "stdout",
     "output_type": "stream",
     "text": [
      "Accuracy score : 0.972972972972973\n",
      "Accuracy : 97.30%\n"
     ]
    }
   ],
   "source": [
    "#Evaluating the model using the metric accuracy score\n",
    "lr_acc=accuracy_score(y_test,lr_pred)\n",
    "print(\"Accuracy score :\",lr_acc)\n",
    "print(f\"Accuracy : {lr_acc*100:.2f}%\")\n"
   ]
  },
  {
   "cell_type": "markdown",
   "id": "579b5d33",
   "metadata": {},
   "source": [
    "# K-NEAREST NEIGHBORS"
   ]
  },
  {
   "cell_type": "code",
   "execution_count": 28,
   "id": "490dd483",
   "metadata": {},
   "outputs": [
    {
     "name": "stdout",
     "output_type": "stream",
     "text": [
      "Accuracy scores for K values ranging from 3 to 14 : \n",
      " [0.972972972972973, 1.0, 1.0, 1.0, 1.0, 0.972972972972973, 0.972972972972973, 0.918918918918919, 0.972972972972973, 0.9459459459459459, 0.9459459459459459, 0.9459459459459459]\n"
     ]
    }
   ],
   "source": [
    "from sklearn.neighbors import KNeighborsClassifier\n",
    "\n",
    "#To choose the best value for K by finding the accuracy scores of the model for K values ranging from 3 to 14\n",
    "metric_k=[]\n",
    "neighbors=np.arange(3,15)\n",
    "for k in neighbors:\n",
    "    classifier=KNeighborsClassifier(n_neighbors=k,metric='euclidean')\n",
    "    classifier.fit(x_train,y_train)\n",
    "    y_pred=classifier.predict(x_test)\n",
    "    acc=accuracy_score(y_test,y_pred)\n",
    "    metric_k.append(acc)\n",
    "print(\"Accuracy scores for K values ranging from 3 to 14 : \\n\",metric_k)"
   ]
  },
  {
   "cell_type": "code",
   "execution_count": 29,
   "id": "b799ef21",
   "metadata": {},
   "outputs": [
    {
     "data": {
      "image/png": "[encoded data removed]",
      "text/plain": [
       "<Figure size 640x480 with 1 Axes>"
      ]
     },
     "metadata": {},
     "output_type": "display_data"
    }
   ],
   "source": [
    "#Plotting the accuracy scores to find the best K value\n",
    "plt.plot(neighbors,metric_k,'o-')\n",
    "plt.xlabel('k')\n",
    "plt.ylabel(\"Accuracy\")\n",
    "plt.grid()"
   ]
  },
  {
   "cell_type": "markdown",
   "id": "d2acee03",
   "metadata": {},
   "source": [
    "K values 4,5,6,7 has 100% accuracy.So we choose k to be 4."
   ]
  },
  {
   "cell_type": "markdown",
   "id": "86a16335",
   "metadata": {},
   "source": [
    "# Model Training"
   ]
  },
  {
   "cell_type": "code",
   "execution_count": 30,
   "id": "a976a944",
   "metadata": {},
   "outputs": [
    {
     "data": {
      "text/html": [
       "<style>#sk-container-id-1 {color: black;background-color: white;}#sk-container-id-1 pre{padding: 0;}#sk-container-id-1 div.sk-toggleable {background-color: white;}#sk-container-id-1 label.sk-toggleable__label {cursor: pointer;display: block;width: 100%;margin-bottom: 0;padding: 0.3em;box-sizing: border-box;text-align: center;}#sk-container-id-1 label.sk-toggleable__label-arrow:before {content: \"▸\";float: left;margin-right: 0.25em;color: #696969;}#sk-container-id-1 label.sk-toggleable__label-arrow:hover:before {color: black;}#sk-container-id-1 div.sk-estimator:hover label.sk-toggleable__label-arrow:before {color: black;}#sk-container-id-1 div.sk-toggleable__content {max-height: 0;max-width: 0;overflow: hidden;text-align: left;background-color: #f0f8ff;}#sk-container-id-1 div.sk-toggleable__content pre {margin: 0.2em;color: black;border-radius: 0.25em;background-color: #f0f8ff;}#sk-container-id-1 input.sk-toggleable__control:checked~div.sk-toggleable__content {max-height: 200px;max-width: 100%;overflow: auto;}#sk-container-id-1 input.sk-toggleable__control:checked~label.sk-toggleable__label-arrow:before {content: \"▾\";}#sk-container-id-1 div.sk-estimator input.sk-toggleable__control:checked~label.sk-toggleable__label {background-color: #d4ebff;}#sk-container-id-1 div.sk-label input.sk-toggleable__control:checked~label.sk-toggleable__label {background-color: #d4ebff;}#sk-container-id-1 input.sk-hidden--visually {border: 0;clip: rect(1px 1px 1px 1px);clip: rect(1px, 1px, 1px, 1px);height: 1px;margin: -1px;overflow: hidden;padding: 0;position: absolute;width: 1px;}#sk-container-id-1 div.sk-estimator {font-family: monospace;background-color: #f0f8ff;border: 1px dotted black;border-radius: 0.25em;box-sizing: border-box;margin-bottom: 0.5em;}#sk-container-id-1 div.sk-estimator:hover {background-color: #d4ebff;}#sk-container-id-1 div.sk-parallel-item::after {content: \"\";width: 100%;border-bottom: 1px solid gray;flex-grow: 1;}#sk-container-id-1 div.sk-label:hover label.sk-toggleable__label {background-color: #d4ebff;}#sk-container-id-1 div.sk-serial::before {content: \"\";position: absolute;border-left: 1px solid gray;box-sizing: border-box;top: 0;bottom: 0;left: 50%;z-index: 0;}#sk-container-id-1 div.sk-serial {display: flex;flex-direction: column;align-items: center;background-color: white;padding-right: 0.2em;padding-left: 0.2em;position: relative;}#sk-container-id-1 div.sk-item {position: relative;z-index: 1;}#sk-container-id-1 div.sk-parallel {display: flex;align-items: stretch;justify-content: center;background-color: white;position: relative;}#sk-container-id-1 div.sk-item::before, #sk-container-id-1 div.sk-parallel-item::before {content: \"\";position: absolute;border-left: 1px solid gray;box-sizing: border-box;top: 0;bottom: 0;left: 50%;z-index: -1;}#sk-container-id-1 div.sk-parallel-item {display: flex;flex-direction: column;z-index: 1;position: relative;background-color: white;}#sk-container-id-1 div.sk-parallel-item:first-child::after {align-self: flex-end;width: 50%;}#sk-container-id-1 div.sk-parallel-item:last-child::after {align-self: flex-start;width: 50%;}#sk-container-id-1 div.sk-parallel-item:only-child::after {width: 0;}#sk-container-id-1 div.sk-dashed-wrapped {border: 1px dashed gray;margin: 0 0.4em 0.5em 0.4em;box-sizing: border-box;padding-bottom: 0.4em;background-color: white;}#sk-container-id-1 div.sk-label label {font-family: monospace;font-weight: bold;display: inline-block;line-height: 1.2em;}#sk-container-id-1 div.sk-label-container {text-align: center;}#sk-container-id-1 div.sk-container {/* jupyter's `normalize.less` sets `[hidden] { display: none; }` but bootstrap.min.css set `[hidden] { display: none !important; }` so we also need the `!important` here to be able to override the default hidden behavior on the sphinx rendered scikit-learn.org. See: https://github.com/scikit-learn/scikit-learn/issues/21755 */display: inline-block !important;position: relative;}#sk-container-id-1 div.sk-text-repr-fallback {display: none;}</style><div id=\"sk-container-id-1\" class=\"sk-top-container\"><div class=\"sk-text-repr-fallback\"><pre>KNeighborsClassifier(metric=&#x27;euclidean&#x27;, n_neighbors=4)</pre><b>In a Jupyter environment, please rerun this cell to show the HTML representation or trust the notebook. <br />On GitHub, the HTML representation is unable to render, please try loading this page with nbviewer.org.</b></div><div class=\"sk-container\" hidden><div class=\"sk-item\"><div class=\"sk-estimator sk-toggleable\"><input class=\"sk-toggleable__control sk-hidden--visually\" id=\"sk-estimator-id-1\" type=\"checkbox\" checked><label for=\"sk-estimator-id-1\" class=\"sk-toggleable__label sk-toggleable__label-arrow\">KNeighborsClassifier</label><div class=\"sk-toggleable__content\"><pre>KNeighborsClassifier(metric=&#x27;euclidean&#x27;, n_neighbors=4)</pre></div></div></div></div></div>"
      ],
      "text/plain": [
       "KNeighborsClassifier(metric='euclidean', n_neighbors=4)"
      ]
     },
     "execution_count": 30,
     "metadata": {},
     "output_type": "execute_result"
    }
   ],
   "source": [
    "#Defining and training(fitting) the KNN model with K=4 using train data\n",
    "classifier=KNeighborsClassifier(n_neighbors=4,metric='euclidean')\n",
    "classifier.fit(x_train,y_train)"
   ]
  },
  {
   "cell_type": "code",
   "execution_count": 31,
   "id": "b08e6ab2",
   "metadata": {},
   "outputs": [],
   "source": [
    "#Predicting the output for the test data using the fitted model\n",
    "y_pred=classifier.predict(x_test)"
   ]
  },
  {
   "cell_type": "markdown",
   "id": "5434dc1c",
   "metadata": {},
   "source": [
    "# Model Evaluation"
   ]
  },
  {
   "cell_type": "code",
   "execution_count": 32,
   "id": "fa6eebe1",
   "metadata": {},
   "outputs": [
    {
     "name": "stdout",
     "output_type": "stream",
     "text": [
      "Confusion matrix : \n",
      " [[16  0  0]\n",
      " [ 0  8  0]\n",
      " [ 0  0 13]]\n"
     ]
    }
   ],
   "source": [
    "#Evaluating the model using confusion matrix\n",
    "print(\"Confusion matrix : \\n\",confusion_matrix(y_test,y_pred))"
   ]
  },
  {
   "cell_type": "code",
   "execution_count": 33,
   "id": "1b92c153",
   "metadata": {},
   "outputs": [
    {
     "name": "stdout",
     "output_type": "stream",
     "text": [
      "Accuracy score : 1.0\n",
      "Accuracy : 100.00%\n"
     ]
    }
   ],
   "source": [
    "#Evaluating the model using the metric accuracy score\n",
    "knn_acc=accuracy_score(y_test,y_pred)\n",
    "print(\"Accuracy score :\",knn_acc)\n",
    "print(f\"Accuracy : {knn_acc*100:.2f}%\")\n"
   ]
  },
  {
   "cell_type": "markdown",
   "id": "4c564f85",
   "metadata": {},
   "source": [
    "# SUPPORT VECTOR MACHINE( with Linear Kernel)"
   ]
  },
  {
   "cell_type": "markdown",
   "id": "ba338a7c",
   "metadata": {},
   "source": [
    "# Model Training"
   ]
  },
  {
   "cell_type": "code",
   "execution_count": 34,
   "id": "61410ac9",
   "metadata": {},
   "outputs": [],
   "source": [
    "#Defining and training(fitting) the SVM model using train data\n",
    "from sklearn.svm import SVC\n",
    "svm_cls=SVC(kernel='linear')\n",
    "svm_cls=svm_cls.fit(x_train,y_train)"
   ]
  },
  {
   "cell_type": "code",
   "execution_count": 35,
   "id": "8b41363b",
   "metadata": {},
   "outputs": [],
   "source": [
    "#Predicting the output for the test data using the fitted model\n",
    "y_pred_svm=svm_cls.predict(x_test)"
   ]
  },
  {
   "cell_type": "markdown",
   "id": "8d50099a",
   "metadata": {},
   "source": [
    "# Model Evaluataion"
   ]
  },
  {
   "cell_type": "code",
   "execution_count": 36,
   "id": "2ed48503",
   "metadata": {},
   "outputs": [
    {
     "name": "stdout",
     "output_type": "stream",
     "text": [
      "Confusion matrix : \n",
      " [[16  0  0]\n",
      " [ 0  8  0]\n",
      " [ 0  0 13]]\n"
     ]
    }
   ],
   "source": [
    "#Evaluating the model using confusion matrix\n",
    "print(\"Confusion matrix : \\n\",confusion_matrix(y_test,y_pred_svm))"
   ]
  },
  {
   "cell_type": "code",
   "execution_count": 37,
   "id": "3622aa5c",
   "metadata": {},
   "outputs": [
    {
     "name": "stdout",
     "output_type": "stream",
     "text": [
      "Accuracy score : 1.0\n",
      "Accuracy : 100.00%\n"
     ]
    }
   ],
   "source": [
    "#Evaluating the model using the metric accuracy score\n",
    "svm_acc=accuracy_score(y_test,y_pred_svm)\n",
    "print(\"Accuracy score :\",svm_acc)\n",
    "print(f\"Accuracy : {svm_acc*100:.2f}%\")\n"
   ]
  },
  {
   "cell_type": "markdown",
   "id": "e19f9bfa",
   "metadata": {},
   "source": [
    "# SUPPORT VECTOR MACHINE (with RBF Kernel)"
   ]
  },
  {
   "cell_type": "markdown",
   "id": "f824b9d0",
   "metadata": {},
   "source": [
    "# Model Training"
   ]
  },
  {
   "cell_type": "code",
   "execution_count": 38,
   "id": "f3fc9e30",
   "metadata": {},
   "outputs": [],
   "source": [
    "#Defining and training(fitting) the SVM model with radial basis function kernel\n",
    "svm_cls1=SVC(kernel='rbf')\n",
    "svm_cls1=svm_cls1.fit(x_train,y_train)\n",
    "y_pred_svm1=svm_cls1.predict(x_test)"
   ]
  },
  {
   "cell_type": "code",
   "execution_count": 39,
   "id": "84ea67da",
   "metadata": {},
   "outputs": [],
   "source": [
    "#Predicting the output for the test data using the fitted model\n",
    "y_pred_svm1=svm_cls1.predict(x_test)"
   ]
  },
  {
   "cell_type": "markdown",
   "id": "6acfef69",
   "metadata": {},
   "source": [
    "# Model Evaluation"
   ]
  },
  {
   "cell_type": "code",
   "execution_count": 40,
   "id": "800719d3",
   "metadata": {},
   "outputs": [
    {
     "name": "stdout",
     "output_type": "stream",
     "text": [
      "Confusion matrix : \n",
      " [[16  0  0]\n",
      " [ 0  8  0]\n",
      " [ 0  2 11]]\n"
     ]
    }
   ],
   "source": [
    "#Evaluating the model using confusion matrix\n",
    "print(\"Confusion matrix : \\n\",confusion_matrix(y_test,y_pred_svm1))"
   ]
  },
  {
   "cell_type": "code",
   "execution_count": 41,
   "id": "8b90d8d4",
   "metadata": {},
   "outputs": [
    {
     "name": "stdout",
     "output_type": "stream",
     "text": [
      "Accuracy score : 0.9459459459459459\n",
      "Accuracy : 94.59%\n"
     ]
    }
   ],
   "source": [
    "#Evaluating the model using the metric accuracy score\n",
    "svm1_acc=accuracy_score(y_test,y_pred_svm1)\n",
    "print(\"Accuracy score :\",svm1_acc)\n",
    "print(f\"Accuracy : {svm1_acc*100:.2f}%\")\n"
   ]
  },
  {
   "cell_type": "markdown",
   "id": "a429ac33",
   "metadata": {},
   "source": [
    "# DECISION TREE"
   ]
  },
  {
   "cell_type": "markdown",
   "id": "33b0844a",
   "metadata": {},
   "source": [
    "# Model Training"
   ]
  },
  {
   "cell_type": "code",
   "execution_count": 42,
   "id": "40459d09",
   "metadata": {},
   "outputs": [],
   "source": [
    "#Defining and training(fitting) the decion tree model using train data\n",
    "from sklearn.tree import DecisionTreeClassifier\n",
    "dt_cls=DecisionTreeClassifier()\n",
    "dt_model=dt_cls.fit(x_train,y_train)"
   ]
  },
  {
   "cell_type": "code",
   "execution_count": 43,
   "id": "1788f834",
   "metadata": {},
   "outputs": [],
   "source": [
    "#Predicting the output for the test data using the fitted model\n",
    "y_pred_dt=dt_model.predict(x_test)"
   ]
  },
  {
   "cell_type": "markdown",
   "id": "bfb0e237",
   "metadata": {},
   "source": [
    "# Model Evaluation"
   ]
  },
  {
   "cell_type": "code",
   "execution_count": 44,
   "id": "50ed42f4",
   "metadata": {},
   "outputs": [
    {
     "name": "stdout",
     "output_type": "stream",
     "text": [
      "Confusion matrix : \n",
      " [[16  0  0]\n",
      " [ 0  7  1]\n",
      " [ 0  1 12]]\n"
     ]
    }
   ],
   "source": [
    "#Evaluating the model using confusion matrix\n",
    "print(\"Confusion matrix : \\n\",confusion_matrix(y_test,y_pred_dt))"
   ]
  },
  {
   "cell_type": "code",
   "execution_count": 45,
   "id": "6929046a",
   "metadata": {},
   "outputs": [
    {
     "name": "stdout",
     "output_type": "stream",
     "text": [
      "Accuracy score : 0.9459459459459459\n",
      "Accuracy : 94.59%\n"
     ]
    }
   ],
   "source": [
    "#Evaluating the model using the metric accuracy score\n",
    "dt_acc=accuracy_score(y_test,y_pred_dt)\n",
    "print(\"Accuracy score :\",dt_acc)\n",
    "print(f\"Accuracy : {dt_acc*100:.2f}%\")\n"
   ]
  },
  {
   "cell_type": "markdown",
   "id": "a544bc5e",
   "metadata": {},
   "source": [
    "# RANDOM FOREST"
   ]
  },
  {
   "cell_type": "markdown",
   "id": "72fca1c5",
   "metadata": {},
   "source": [
    "# Model Training"
   ]
  },
  {
   "cell_type": "code",
   "execution_count": 46,
   "id": "e43d36de",
   "metadata": {},
   "outputs": [],
   "source": [
    "#Defining and training(fitting) the decion tree model using train data\n",
    "from sklearn.ensemble import RandomForestClassifier\n",
    "rf_cls=RandomForestClassifier()\n",
    "model_rf=rf_cls.fit(x_train,y_train)"
   ]
  },
  {
   "cell_type": "code",
   "execution_count": 47,
   "id": "e5d49e2f",
   "metadata": {},
   "outputs": [],
   "source": [
    "#Predicting the output for the test data using the fitted model\n",
    "y_pred_rf=model_rf.predict(x_test)"
   ]
  },
  {
   "cell_type": "markdown",
   "id": "3453e67f",
   "metadata": {},
   "source": [
    "# Model Evaluation"
   ]
  },
  {
   "cell_type": "code",
   "execution_count": 48,
   "id": "683ad29a",
   "metadata": {},
   "outputs": [
    {
     "name": "stdout",
     "output_type": "stream",
     "text": [
      "Confusion matrix : \n",
      " [[16  0  0]\n",
      " [ 0  7  1]\n",
      " [ 0  1 12]]\n"
     ]
    }
   ],
   "source": [
    "#Evaluating the model using confusion matrix\n",
    "print(\"Confusion matrix : \\n\",confusion_matrix(y_test,y_pred_rf))"
   ]
  },
  {
   "cell_type": "code",
   "execution_count": 49,
   "id": "d73a0c47",
   "metadata": {},
   "outputs": [
    {
     "name": "stdout",
     "output_type": "stream",
     "text": [
      "Accuracy score : 0.9459459459459459\n",
      "Accuracy : 94.59%\n"
     ]
    }
   ],
   "source": [
    "#Evaluating the model using the metric accuracy score\n",
    "rf_acc=accuracy_score(y_test,y_pred_rf)\n",
    "print(\"Accuracy score :\",rf_acc)\n",
    "print(f\"Accuracy : {rf_acc*100:.2f}%\")\n"
   ]
  },
  {
   "cell_type": "markdown",
   "id": "6b33a2a4",
   "metadata": {},
   "source": [
    "# Comparing the performance of all the models"
   ]
  },
  {
   "cell_type": "code",
   "execution_count": 50,
   "id": "4979f4f1",
   "metadata": {},
   "outputs": [
    {
     "data": {
      "text/html": [
       "<div>\n",
       "<style scoped>\n",
       "    .dataframe tbody tr th:only-of-type {\n",
       "        vertical-align: middle;\n",
       "    }\n",
       "\n",
       "    .dataframe tbody tr th {\n",
       "        vertical-align: top;\n",
       "    }\n",
       "\n",
       "    .dataframe thead th {\n",
       "        text-align: right;\n",
       "    }\n",
       "</style>\n",
       "<table border=\"1\" class=\"dataframe\">\n",
       "  <thead>\n",
       "    <tr style=\"text-align: right;\">\n",
       "      <th></th>\n",
       "      <th>Accuracy(%)</th>\n",
       "    </tr>\n",
       "    <tr>\n",
       "      <th>Model</th>\n",
       "      <th></th>\n",
       "    </tr>\n",
       "  </thead>\n",
       "  <tbody>\n",
       "    <tr>\n",
       "      <th>K-Nearest Neighbor</th>\n",
       "      <td>100.00</td>\n",
       "    </tr>\n",
       "    <tr>\n",
       "      <th>SVM(Linear)</th>\n",
       "      <td>100.00</td>\n",
       "    </tr>\n",
       "    <tr>\n",
       "      <th>Logisic Regression</th>\n",
       "      <td>97.30</td>\n",
       "    </tr>\n",
       "    <tr>\n",
       "      <th>SVM(RBF)</th>\n",
       "      <td>94.59</td>\n",
       "    </tr>\n",
       "    <tr>\n",
       "      <th>Decision Tree</th>\n",
       "      <td>94.59</td>\n",
       "    </tr>\n",
       "    <tr>\n",
       "      <th>Random Forest</th>\n",
       "      <td>94.59</td>\n",
       "    </tr>\n",
       "  </tbody>\n",
       "</table>\n",
       "</div>"
      ],
      "text/plain": [
       "                    Accuracy(%)\n",
       "Model                          \n",
       "K-Nearest Neighbor       100.00\n",
       "SVM(Linear)              100.00\n",
       "Logisic Regression        97.30\n",
       "SVM(RBF)                  94.59\n",
       "Decision Tree             94.59\n",
       "Random Forest             94.59"
      ]
     },
     "execution_count": 50,
     "metadata": {},
     "output_type": "execute_result"
    }
   ],
   "source": [
    "#Creating a dataframe for model and accuracy(in percentage) and sorting it in descending order of accuracy\n",
    "results=pd.DataFrame({'Model':['Logisic Regression','K-Nearest Neighbor','SVM(Linear)','SVM(RBF)','Decision Tree','Random Forest'],\n",
    "                      'Accuracy(%)':[97.30,100.00,100.00,94.59,94.59,94.59]})\n",
    "results=results.sort_values(by='Accuracy(%)',ascending=False)\n",
    "results=results.set_index('Model')\n",
    "results"
   ]
  },
  {
   "cell_type": "markdown",
   "id": "bff2ff3e",
   "metadata": {},
   "source": [
    "Since K-Nearest Neighbor model and SVM with linear kernel model have 100% accuracy, they give the best result."
   ]
  },
  {
   "cell_type": "code",
   "execution_count": null,
   "id": "0d27111d",
   "metadata": {},
   "outputs": [],
   "source": []
  }
 ],
 "metadata": {
  "kernelspec": {
   "display_name": "Python 3 (ipykernel)",
   "language": "python",
   "name": "python3"
  },
  "language_info": {
   "codemirror_mode": {
    "name": "ipython",
    "version": 3
   },
   "file_extension": ".py",
   "mimetype": "text/x-python",
   "name": "python",
   "nbconvert_exporter": "python",
   "pygments_lexer": "ipython3",
   "version": "3.11.3"
  }
 },
 "nbformat": 4,
 "nbformat_minor": 5
}
