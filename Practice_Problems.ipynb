{
  "nbformat": 4,
  "nbformat_minor": 0,
  "metadata": {
    "colab": {
      "provenance": []
    },
    "kernelspec": {
      "name": "python3",
      "display_name": "Python 3"
    },
    "language_info": {
      "name": "python"
    }
  },
  "cells": [
    {
      "cell_type": "code",
      "execution_count": null,
      "metadata": {
        "colab": {
          "base_uri": "https://localhost:8080/"
        },
        "id": "lqiH39iYUeeN",
        "outputId": "40e28f97-a013-4cab-fe43-dcd071f539ae"
      },
      "outputs": [
        {
          "output_type": "stream",
          "name": "stdout",
          "text": [
            "Enter the radius : 3\n",
            "Area of the circle is 28.259999999999998\n"
          ]
        }
      ],
      "source": [
        "r=int(input(\"Enter the radius : \"))\n",
        "A=3.14*r*r\n",
        "print(\"Area of the circle is\",A)"
      ]
    },
    {
      "cell_type": "code",
      "source": [
        "Name=input(\"Enter the name : \")\n",
        "Roll_no=input(\"Enter the roll number : \")\n",
        "Mark=input(\"Enter the mark : \")\n",
        "print(\"Name :\",Name)\n",
        "print(\"Roll No :\",Roll_no)\n",
        "print(\"Mark :\",Mark)"
      ],
      "metadata": {
        "colab": {
          "base_uri": "https://localhost:8080/"
        },
        "id": "w0OWf3Q3X-5g",
        "outputId": "c0e406ff-91df-4520-f5f8-533af3d53e99"
      },
      "execution_count": null,
      "outputs": [
        {
          "output_type": "stream",
          "name": "stdout",
          "text": [
            "Enter the name : Anisha\n",
            "Enter the roll number : 21\n",
            "Enter the mark : 78\n",
            "Name : Anisha\n",
            "Roll No : 21\n",
            "Mark : 78\n"
          ]
        }
      ]
    },
    {
      "cell_type": "code",
      "source": [
        "n=int(input(\"Enter the number of elements in the list: \"))\n",
        "l=[]\n",
        "for i in range(0,n):\n",
        "  l.append(int(input(\"Enter the element :\")))\n",
        "print(\"List :\",l)\n",
        "max=l[0]\n",
        "for j in range(0,n):\n",
        "  if(l[j]>max):\n",
        "    max=l[j]\n",
        "print(\"Largest number in the list is \",max)\n"
      ],
      "metadata": {
        "colab": {
          "base_uri": "https://localhost:8080/"
        },
        "id": "9zWxDoQzaoyt",
        "outputId": "a7ee050b-a4a9-4993-958e-2fd29af0a00d"
      },
      "execution_count": null,
      "outputs": [
        {
          "output_type": "stream",
          "name": "stdout",
          "text": [
            "Enter the number of elements in the list: 4\n",
            "Enter the element :12\n",
            "Enter the element :3\n",
            "Enter the element :47\n",
            "Enter the element :10\n",
            "List : [12, 3, 47, 10]\n",
            "Largest number in the list is  47\n"
          ]
        }
      ]
    },
    {
      "cell_type": "code",
      "source": [
        "for i in range(1,11):\n",
        "  print(\"Current number =\",i)\n",
        "  print(\"Previous number =\",i-1)\n",
        "  print(\"Sum =\",i+i-1)"
      ],
      "metadata": {
        "colab": {
          "base_uri": "https://localhost:8080/"
        },
        "id": "M-1ev6TWXDLX",
        "outputId": "064f0bce-4bda-4d13-ce4d-68b69005a4c7"
      },
      "execution_count": null,
      "outputs": [
        {
          "output_type": "stream",
          "name": "stdout",
          "text": [
            "Current number = 1\n",
            "Previous number = 0\n",
            "Sum = 1\n",
            "Current number = 2\n",
            "Previous number = 1\n",
            "Sum = 3\n",
            "Current number = 3\n",
            "Previous number = 2\n",
            "Sum = 5\n",
            "Current number = 4\n",
            "Previous number = 3\n",
            "Sum = 7\n",
            "Current number = 5\n",
            "Previous number = 4\n",
            "Sum = 9\n",
            "Current number = 6\n",
            "Previous number = 5\n",
            "Sum = 11\n",
            "Current number = 7\n",
            "Previous number = 6\n",
            "Sum = 13\n",
            "Current number = 8\n",
            "Previous number = 7\n",
            "Sum = 15\n",
            "Current number = 9\n",
            "Previous number = 8\n",
            "Sum = 17\n",
            "Current number = 10\n",
            "Previous number = 9\n",
            "Sum = 19\n"
          ]
        }
      ]
    },
    {
      "cell_type": "code",
      "source": [
        "l=[]\n",
        "n=int(input(\"Enter the number of elements in the list :\"))\n",
        "for i in range(0,n):\n",
        "  l.append(int(input(\"Enter the element :\")))\n",
        "print(\"The numbers divisible by 5 are :\")\n",
        "for j in l:\n",
        "  if(j%5==0):\n",
        "    print(j)"
      ],
      "metadata": {
        "colab": {
          "base_uri": "https://localhost:8080/"
        },
        "id": "oOzUsddgYzli",
        "outputId": "4566021d-8259-4523-a5c7-695379d69747"
      },
      "execution_count": null,
      "outputs": [
        {
          "output_type": "stream",
          "name": "stdout",
          "text": [
            "Enter the number of elements in the list :5\n",
            "Enter the element :10\n",
            "Enter the element :20\n",
            "Enter the element :33\n",
            "Enter the element :46\n",
            "Enter the element :55\n",
            "The numbers divisible by 5 are :\n",
            "10\n",
            "20\n",
            "55\n"
          ]
        }
      ]
    },
    {
      "cell_type": "code",
      "source": [
        "num=int(input(\"Enter the number : \"))\n",
        "if num==1:\n",
        "  print(num,\"is not prime\")\n",
        "if num>1:\n",
        "  for i in range(2,num):\n",
        "    if num%i==0:\n",
        "      print(num,\"is not a prime number\")\n",
        "      break\n",
        "  else:\n",
        "      print(num,\"is a prime number\")\n",
        "\n",
        "\n"
      ],
      "metadata": {
        "colab": {
          "base_uri": "https://localhost:8080/"
        },
        "id": "UQvKcehhE89w",
        "outputId": "7839fcc5-b9fa-4ed8-db59-b9a8960a2efd"
      },
      "execution_count": null,
      "outputs": [
        {
          "output_type": "stream",
          "name": "stdout",
          "text": [
            "Enter the number : 3\n",
            "3 is a prime number\n"
          ]
        }
      ]
    },
    {
      "cell_type": "code",
      "source": [
        "l=[]\n",
        "n=int(input(\"Enter the number of elements in the list :\"))\n",
        "for i in range(0,n):\n",
        "  l.append(int(input(\"Enter the element :\")))\n",
        "rev_list=[]\n",
        "for j in range(1,n+1):\n",
        "  rev_list.append(l[-j])\n",
        "print(\"Original list :\",l)\n",
        "print(\"Reversed list :\",rev_list)\n",
        "\n",
        "\n",
        "\n"
      ],
      "metadata": {
        "colab": {
          "base_uri": "https://localhost:8080/"
        },
        "id": "pQWdWin6K5CC",
        "outputId": "a6342c88-f994-4238-ae57-281e5e784494"
      },
      "execution_count": null,
      "outputs": [
        {
          "output_type": "stream",
          "name": "stdout",
          "text": [
            "Enter the number of elements in the list :4\n",
            "Enter the element :10\n",
            "Enter the element :40\n",
            "Enter the element :30\n",
            "Enter the element :70\n",
            "Original list : [10, 40, 30, 70]\n",
            "Reversed list : [70, 30, 40, 10]\n"
          ]
        }
      ]
    },
    {
      "cell_type": "code",
      "source": [
        "for i in range(1,5):\n",
        "  print(\"*\"*i)"
      ],
      "metadata": {
        "colab": {
          "base_uri": "https://localhost:8080/"
        },
        "id": "JsAhL9SeQk6r",
        "outputId": "cb196ab2-36c2-46f2-b4a2-b46ec9d89ffc"
      },
      "execution_count": null,
      "outputs": [
        {
          "output_type": "stream",
          "name": "stdout",
          "text": [
            "*\n",
            "**\n",
            "***\n",
            "****\n"
          ]
        }
      ]
    },
    {
      "cell_type": "code",
      "source": [
        "num_1 = int(input(\"Enter the first number :\"))\n",
        "num_2 = int(input(\"Enter the second number :\"))\n",
        "num_3 = int(input(\"Enter the third number :\"))\n",
        "if num_1>num_2 and num_1>num_3:\n",
        "  print(\"Maximum of the three numbers is\",num_1)\n",
        "elif num_2>num_1 and num_2>num_3:\n",
        "  print(\"Maximum of the three numbers is\",num_2)\n",
        "else:\n",
        "  print(\"Maximum of the three numbers is\",num_3)"
      ],
      "metadata": {
        "colab": {
          "base_uri": "https://localhost:8080/"
        },
        "id": "xLY3n2ICRpM5",
        "outputId": "66f6349d-bb47-4109-ea89-d40525335ce4"
      },
      "execution_count": null,
      "outputs": [
        {
          "output_type": "stream",
          "name": "stdout",
          "text": [
            "Enter the first number :34\n",
            "Enter the second number :12\n",
            "Enter the third number :7\n",
            "Maximum of the three numbers is 34\n"
          ]
        }
      ]
    },
    {
      "cell_type": "code",
      "source": [
        "for i in range(5):\n",
        "  for j in range(i):\n",
        "    print(\"*\",end=\"\")\n",
        "  print(\"*\")\n",
        "for k in range(4,0,-1):\n",
        "  for l in range(k-1,0,-1):\n",
        "    print(\"*\",end=\"\")\n",
        "  print(\"*\")"
      ],
      "metadata": {
        "colab": {
          "base_uri": "https://localhost:8080/"
        },
        "id": "wUiO87oHVoLm",
        "outputId": "5bfcdb74-fc71-45d0-c9ca-2357c396e1c4"
      },
      "execution_count": null,
      "outputs": [
        {
          "output_type": "stream",
          "name": "stdout",
          "text": [
            "*\n",
            "**\n",
            "***\n",
            "****\n",
            "*****\n",
            "****\n",
            "***\n",
            "**\n",
            "*\n"
          ]
        }
      ]
    }
  ]
}